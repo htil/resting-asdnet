{
 "cells": [
  {
   "cell_type": "code",
   "execution_count": 5,
   "metadata": {},
   "outputs": [
    {
     "name": "stdout",
     "output_type": "stream",
     "text": [
      "epochs: 1240, channels: 32, samples: 513\n",
      "(31,)\n",
      "(31,)\n",
      "(31, 2)\n",
      "[[135.50177298   0.        ]\n",
      " [135.84695619   1.        ]\n",
      " [135.80723451   2.        ]]\n",
      "         Power  Freq\n",
      "0   135.501773   0.0\n",
      "1   135.846956   1.0\n",
      "2   135.807235   2.0\n",
      "3   135.677413   3.0\n",
      "4   135.668936   4.0\n",
      "5   135.508737   5.0\n",
      "6   135.427906   6.0\n",
      "7   135.512199   7.0\n",
      "8   135.562598   8.0\n",
      "9   135.548144   9.0\n",
      "10  135.521843  10.0\n",
      "11  135.487454  11.0\n",
      "12  135.433418  12.0\n",
      "13  135.346215  13.0\n",
      "14  135.153479  14.0\n",
      "15  134.684478  15.0\n",
      "16  134.441345  16.0\n",
      "17  134.355448  17.0\n",
      "18  134.308013  18.0\n",
      "19  134.262058  19.0\n",
      "20  134.199636  20.0\n",
      "21  134.136024  21.0\n",
      "22  134.066668  22.0\n",
      "23  133.981374  23.0\n",
      "24  133.861711  24.0\n",
      "25  133.706916  25.0\n",
      "26  133.549844  26.0\n",
      "27  133.422104  27.0\n",
      "28  133.346028  28.0\n",
      "29  133.300200  29.0\n",
      "30  133.259301  30.0\n"
     ]
    }
   ],
   "source": [
    "import mne\n",
    "from pathlib import Path \n",
    "import numpy as np\n",
    "import matplotlib\n",
    "import matplotlib.pyplot as plt\n",
    "import preprocess\n",
    "import pandas as pd\n",
    "\n",
    "import seaborn as sns\n",
    "sns.set_theme()\n",
    "\n",
    "#%matplotlib\n",
    "#tips = sns.load_dataset(\"tips\")\n",
    "#print(tips)\n",
    "\n",
    "matplotlib.use('Qt5Agg')\n",
    "mne.set_log_level('warning')\n",
    "\n",
    "# https://mne.discourse.group/t/psd-multitaper-output-conversion-to-db-welch/4445\n",
    "def scaleEEGPower(powerArray):\n",
    "    powerArray = powerArray * 1e6**2 \n",
    "    powerArray = (10 * np.log10(powerArray))\n",
    "    return powerArray\n",
    "\n",
    "\n",
    "def extractFetures(signal):\n",
    "    delta = np.mean(signal[:4])\n",
    "    theta = np.mean(signal[4:8])\n",
    "    alpha = np.mean(signal[8:12])\n",
    "    beta = np.mean(signal[13:30])\n",
    "    gamma = np.mean(signal[30:40])\n",
    "    return [beta]\n",
    "\n",
    "all_epochs, idx_asd, idx_td, np_all_epochs, y = preprocess.getInput('train_all_epo.fif')\n",
    "asd_psd = all_epochs.compute_psd(fmax=30)\n",
    "#asd_psd.plot()\n",
    "asd_psd = np.mean(psd, axis=0)\n",
    "asd_psd = np.mean(psd, axis=0)\n",
    "asd_psd = scaleEEGPower(psd)\n",
    "#asd_psd = asd_psd * 1e6**2 \n",
    "#asd_psd = (10 * np.log10(asd_psd))\n",
    "#asd_psd = np.log10(np.absolute(asd_psd))\n",
    "\n",
    "i = np.arange(len(asd_psd))\n",
    "np_df = np.stack((asd_psd, i), axis=1)\n",
    "df = pd.DataFrame(np_df, columns = ['Power','Freq'])\n",
    "sns.lineplot(data=df, x=\"Freq\", y=\"Power\")\n",
    "\n",
    "\n",
    "print(psd.shape)\n",
    "print(i.shape)\n",
    "print(np_df.shape)\n",
    "print(np_df[:3,:])\n",
    "print(df)\n",
    "\n",
    "#all_epochs[\"td\"].compute_psd(fmax=30).plot()\n",
    "X_2d = preprocess.getProcessedInput(1, 40, np_all_epochs, all_epochs, extractFetures) \n",
    "#print(X_2d.shape, all_epochs.events.shape)\n",
    "  \n",
    "mean_channel_power = np.mean(X_2d, axis=2)\n",
    "np_all_epochs.shape[0]\n",
    "channel_id = np.array([np.full((np_all_epochs.shape[0]), channel_name) for channel_name in all_epochs.ch_names])\n",
    "event_ids = np.array([all_epochs.events[:, 2] for channel in all_epochs.ch_names])\n",
    "#print(\"epochs\", np_all_epochs.shape[0], all_epochs.events.shape, channel_id.shape, event_ids.shape, mean_channel_power.shape)\n",
    "#print(channel_id.shape, channel_id[:5])\n",
    "#print(event_ids.shape, event_ids[:5])\n",
    "#print(mean_channel_power.T.shape, mean_channel_power[:5])\n",
    "\n",
    "\n",
    "channel_id = channel_id.flatten()\n",
    "event_ids = event_ids.flatten()\n",
    "event_ids = np.where(event_ids == 1, \"ASD\", \"TD\")\n",
    "mean_channel_power = mean_channel_power.T.flatten()\n",
    "mean_channel_power = np.square(10 * np.absolute(np.log10(mean_channel_power))) / 512\n",
    "#print(type(mean_channel_power))\n",
    "\n",
    "#print(channel_id.shape, channel_id)\n",
    "#print(event_ids.shape, event_ids)\n",
    "#print(mean_channel_power.shape, mean_channel_power)\n",
    "\n",
    "reformatted_data = np.stack((channel_id, event_ids, mean_channel_power), axis=1)\n",
    "df = pd.DataFrame(reformatted_data, columns = ['Channel','Condition','Power'])\n",
    "df['Power'] = df['Power'].astype('float')\n",
    "select_channels = ['Fp1', 'Fpz', 'Fp2', 'F7', 'F3', 'Fz', 'F4', 'F8', 'FC5', 'FC1', 'FC2', 'FC6']\n",
    "ch = df[df['Channel'].isin(select_channels)]\n",
    "#print(ch.head)\n",
    "#sns.swarmplot(data=ch, x=\"Channel\", y=\"Power\", hue=\"Condition\")\n",
    "#print(all_epochs.ch_names)\n",
    "#sns.barplot(data=ch, x=\"Channel\", y=\"Power\",  hue=\"Condition\")\n",
    "plt.show()\n",
    "\n",
    "\n"
   ]
  },
  {
   "cell_type": "code",
   "execution_count": 4,
   "metadata": {},
   "outputs": [
    {
     "data": {
      "text/plain": [
       "()"
      ]
     },
     "execution_count": 4,
     "metadata": {},
     "output_type": "execute_result"
    }
   ],
   "source": [
    "()"
   ]
  }
 ],
 "metadata": {
  "kernelspec": {
   "display_name": "eeg_analysis2",
   "language": "python",
   "name": "python3"
  },
  "language_info": {
   "codemirror_mode": {
    "name": "ipython",
    "version": 3
   },
   "file_extension": ".py",
   "mimetype": "text/x-python",
   "name": "python",
   "nbconvert_exporter": "python",
   "pygments_lexer": "ipython3",
   "version": "3.10.8 | packaged by conda-forge | (main, Nov 24 2022, 14:07:00) [MSC v.1916 64 bit (AMD64)]"
  },
  "orig_nbformat": 4,
  "vscode": {
   "interpreter": {
    "hash": "d94503d86879015ebe7d306559351af4970b9a399c1ace7a1e2d9bc659cce61d"
   }
  }
 },
 "nbformat": 4,
 "nbformat_minor": 2
}
