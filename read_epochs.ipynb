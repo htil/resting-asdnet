{
 "cells": [
  {
   "cell_type": "code",
   "execution_count": 4,
   "metadata": {},
   "outputs": [
    {
     "name": "stdout",
     "output_type": "stream",
     "text": [
      "1.2.3\n"
     ]
    },
    {
     "data": {
      "text/plain": [
       "\"\\ntopomap_kw = dict(ch_type='eeg', tmin=0, tmax=1.0, mode='logratio', show=False)\\n\\nplot_dict = dict(Delta=dict(fmin=0, fmax=4), Alpha=dict(fmin=7, fmax=12), Beta=dict(fmin=13, fmax=25))\\nfig, axes = plt.subplots(2, 1, figsize=(14, 7))\\n\""
      ]
     },
     "execution_count": 4,
     "metadata": {},
     "output_type": "execute_result"
    }
   ],
   "source": [
    "import mne\n",
    "import matplotlib\n",
    "import matplotlib.pyplot as plt\n",
    "from pathlib import Path\n",
    "from mne.time_frequency import tfr_morlet\n",
    "import numpy as np\n",
    "\n",
    "\n",
    "print(mne.__version__)\n",
    "\n",
    "\n",
    "matplotlib.use('Qt5Agg')\n",
    "mne.set_log_level('warning')\n",
    "\n",
    "asd_epochs = mne.read_epochs(Path('out_data') / 'asd_concat_epo.fif')\n",
    "td_epochs = mne.read_epochs(Path('out_data') / 'td_concat_epo.fif')\n",
    "\n",
    "asd_epochs.plot()\n",
    "\n",
    "#fig, (ax1, ax2) = plt.subplots(2, 1, figsize=(14, 7))\n",
    "\n",
    "#power = epochs.compute_psd()\n",
    "#td_power = td_epochs.compute_psd()\n",
    "#print(epochs)\n",
    "#power.plot(axes=ax1)\n",
    "#ax1.set_title(\"ASD\")\n",
    "#power.plot_topomap(show_names=True)\n",
    "#td_power.plot( axes=ax2)\n",
    "#ax2.set_title(\"TD\")\n",
    "\n",
    "#freqs = np.logspace(*np.log10([1, 30]), num=64)\n",
    "#n_cycles = freqs / 2.  # different number of cycle per frequency\n",
    "#power, itc = tfr_morlet(epochs, freqs=freqs, n_cycles=n_cycles, use_fft=True, return_itc=True, decim=3, n_jobs=None)\n",
    "\n",
    "#power.plot_joint(baseline=(0, 0), mode='mean')\n",
    "#power.plot_topo(baseline=(0, 0), mode='logratio', title='Average power')\n",
    "\n",
    "\n",
    "'''\n",
    "topomap_kw = dict(ch_type='eeg', tmin=0, tmax=1.0, mode='logratio', show=False)\n",
    "\n",
    "plot_dict = dict(Delta=dict(fmin=0, fmax=4), Alpha=dict(fmin=7, fmax=12), Beta=dict(fmin=13, fmax=25))\n",
    "fig, axes = plt.subplots(2, 1, figsize=(14, 7))\n",
    "'''\n",
    "\n",
    "\n",
    "\n",
    "\n",
    "\n",
    "\n"
   ]
  }
 ],
 "metadata": {
  "kernelspec": {
   "display_name": "eeg_analysis2",
   "language": "python",
   "name": "python3"
  },
  "language_info": {
   "codemirror_mode": {
    "name": "ipython",
    "version": 3
   },
   "file_extension": ".py",
   "mimetype": "text/x-python",
   "name": "python",
   "nbconvert_exporter": "python",
   "pygments_lexer": "ipython3",
   "version": "3.10.8 | packaged by conda-forge | (main, Nov 24 2022, 14:07:00) [MSC v.1916 64 bit (AMD64)]"
  },
  "orig_nbformat": 4,
  "vscode": {
   "interpreter": {
    "hash": "d94503d86879015ebe7d306559351af4970b9a399c1ace7a1e2d9bc659cce61d"
   }
  }
 },
 "nbformat": 4,
 "nbformat_minor": 2
}
